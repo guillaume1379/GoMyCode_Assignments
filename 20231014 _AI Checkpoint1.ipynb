{
 "cells": [
  {
   "cell_type": "markdown",
   "id": "42bf60aa",
   "metadata": {},
   "source": [
    "### Exercice 1"
   ]
  },
  {
   "cell_type": "code",
   "execution_count": null,
   "id": "8e99f971",
   "metadata": {},
   "outputs": [],
   "source": [
    "mylist = []\n",
    "\n",
    "for i in range (2000,3201):\n",
    "    if (i%7 == 0 and i%5 != 0):\n",
    "        mylist.append(i)"
   ]
  },
  {
   "cell_type": "code",
   "execution_count": 5,
   "id": "509be760",
   "metadata": {},
   "outputs": [
    {
     "data": {
      "text/plain": [
       "[2002,\n",
       " 2009,\n",
       " 2016,\n",
       " 2023,\n",
       " 2037,\n",
       " 2044,\n",
       " 2051,\n",
       " 2058,\n",
       " 2072,\n",
       " 2079,\n",
       " 2086,\n",
       " 2093,\n",
       " 2107,\n",
       " 2114,\n",
       " 2121,\n",
       " 2128,\n",
       " 2142,\n",
       " 2149,\n",
       " 2156,\n",
       " 2163,\n",
       " 2177,\n",
       " 2184,\n",
       " 2191,\n",
       " 2198,\n",
       " 2212,\n",
       " 2219,\n",
       " 2226,\n",
       " 2233,\n",
       " 2247,\n",
       " 2254,\n",
       " 2261,\n",
       " 2268,\n",
       " 2282,\n",
       " 2289,\n",
       " 2296,\n",
       " 2303,\n",
       " 2317,\n",
       " 2324,\n",
       " 2331,\n",
       " 2338,\n",
       " 2352,\n",
       " 2359,\n",
       " 2366,\n",
       " 2373,\n",
       " 2387,\n",
       " 2394,\n",
       " 2401,\n",
       " 2408,\n",
       " 2422,\n",
       " 2429,\n",
       " 2436,\n",
       " 2443,\n",
       " 2457,\n",
       " 2464,\n",
       " 2471,\n",
       " 2478,\n",
       " 2492,\n",
       " 2499,\n",
       " 2506,\n",
       " 2513,\n",
       " 2527,\n",
       " 2534,\n",
       " 2541,\n",
       " 2548,\n",
       " 2562,\n",
       " 2569,\n",
       " 2576,\n",
       " 2583,\n",
       " 2597,\n",
       " 2604,\n",
       " 2611,\n",
       " 2618,\n",
       " 2632,\n",
       " 2639,\n",
       " 2646,\n",
       " 2653,\n",
       " 2667,\n",
       " 2674,\n",
       " 2681,\n",
       " 2688,\n",
       " 2702,\n",
       " 2709,\n",
       " 2716,\n",
       " 2723,\n",
       " 2737,\n",
       " 2744,\n",
       " 2751,\n",
       " 2758,\n",
       " 2772,\n",
       " 2779,\n",
       " 2786,\n",
       " 2793,\n",
       " 2807,\n",
       " 2814,\n",
       " 2821,\n",
       " 2828,\n",
       " 2842,\n",
       " 2849,\n",
       " 2856,\n",
       " 2863,\n",
       " 2877,\n",
       " 2884,\n",
       " 2891,\n",
       " 2898,\n",
       " 2912,\n",
       " 2919,\n",
       " 2926,\n",
       " 2933,\n",
       " 2947,\n",
       " 2954,\n",
       " 2961,\n",
       " 2968,\n",
       " 2982,\n",
       " 2989,\n",
       " 2996,\n",
       " 3003,\n",
       " 3017,\n",
       " 3024,\n",
       " 3031,\n",
       " 3038,\n",
       " 3052,\n",
       " 3059,\n",
       " 3066,\n",
       " 3073,\n",
       " 3087,\n",
       " 3094,\n",
       " 3101,\n",
       " 3108,\n",
       " 3122,\n",
       " 3129,\n",
       " 3136,\n",
       " 3143,\n",
       " 3157,\n",
       " 3164,\n",
       " 3171,\n",
       " 3178,\n",
       " 3192,\n",
       " 3199]"
      ]
     },
     "execution_count": 5,
     "metadata": {},
     "output_type": "execute_result"
    }
   ],
   "source": [
    "mylist"
   ]
  },
  {
   "cell_type": "markdown",
   "id": "54310ca6",
   "metadata": {},
   "source": [
    "### Exercice 2"
   ]
  },
  {
   "cell_type": "code",
   "execution_count": 16,
   "id": "43707be0",
   "metadata": {},
   "outputs": [],
   "source": [
    "def factorial(n):\n",
    "    result = 1\n",
    "    for i in range(1,n+1):\n",
    "        result = result * i\n",
    "    return result"
   ]
  },
  {
   "cell_type": "code",
   "execution_count": 18,
   "id": "72114afb",
   "metadata": {},
   "outputs": [
    {
     "data": {
      "text/plain": [
       "24"
      ]
     },
     "execution_count": 18,
     "metadata": {},
     "output_type": "execute_result"
    }
   ],
   "source": [
    "factorial(4)"
   ]
  },
  {
   "cell_type": "code",
   "execution_count": 45,
   "id": "5e1e6506",
   "metadata": {},
   "outputs": [],
   "source": [
    "def recursivefactorial(n):\n",
    "    if n==1:\n",
    "        return 1\n",
    "    else:\n",
    "        return n*recursivefactorial(n-1)\n",
    "    \n",
    "#ca ne renvoit pas 1 car en fait cest juste la derniere valeur de la fonction qui sera égale à 1"
   ]
  },
  {
   "cell_type": "code",
   "execution_count": 46,
   "id": "97705d9c",
   "metadata": {},
   "outputs": [
    {
     "data": {
      "text/plain": [
       "6"
      ]
     },
     "execution_count": 46,
     "metadata": {},
     "output_type": "execute_result"
    }
   ],
   "source": [
    "recursivefactorial(3)"
   ]
  },
  {
   "cell_type": "markdown",
   "id": "e8f5b68a",
   "metadata": {},
   "source": [
    "### Exercice 3 : Construire. un dico qui a pour key une valeur de i mais valeur i*i et ca va de 1 and n"
   ]
  },
  {
   "cell_type": "code",
   "execution_count": 52,
   "id": "8d48dc39",
   "metadata": {},
   "outputs": [],
   "source": [
    "def create_dico(n):\n",
    "    dico = {}\n",
    "    for i in range(1,n+1):\n",
    "        dico[i]= i*i\n",
    "    return dico"
   ]
  },
  {
   "cell_type": "code",
   "execution_count": 55,
   "id": "85d371a8",
   "metadata": {},
   "outputs": [],
   "source": [
    "mydico = create_dico(8)"
   ]
  },
  {
   "cell_type": "code",
   "execution_count": 56,
   "id": "5fccf591",
   "metadata": {},
   "outputs": [
    {
     "data": {
      "text/plain": [
       "{1: 1, 2: 4, 3: 9, 4: 16, 5: 25, 6: 36, 7: 49, 8: 64}"
      ]
     },
     "execution_count": 56,
     "metadata": {},
     "output_type": "execute_result"
    }
   ],
   "source": [
    "mydico"
   ]
  },
  {
   "cell_type": "markdown",
   "id": "3d3b9798",
   "metadata": {},
   "source": [
    "### Exercice 4 chaine de caractere avec index supprimé"
   ]
  },
  {
   "cell_type": "code",
   "execution_count": 73,
   "id": "3de15b6e",
   "metadata": {},
   "outputs": [],
   "source": [
    "def missing_char(char,index):\n",
    "    if index == -1:\n",
    "        return char[:index]\n",
    "    else:\n",
    "        return (char[:index]+char[index+1:])"
   ]
  },
  {
   "cell_type": "code",
   "execution_count": 75,
   "id": "4496a47d",
   "metadata": {},
   "outputs": [
    {
     "data": {
      "text/plain": [
       "'kittn'"
      ]
     },
     "execution_count": 75,
     "metadata": {},
     "output_type": "execute_result"
    }
   ],
   "source": [
    "missing_char('kitten',-2)"
   ]
  },
  {
   "cell_type": "markdown",
   "id": "4aecd3d3",
   "metadata": {},
   "source": [
    "### Question 5 : write a Numpy program to convert a NumPy array into a Python like structure"
   ]
  },
  {
   "cell_type": "code",
   "execution_count": 76,
   "id": "ee60b686",
   "metadata": {},
   "outputs": [],
   "source": [
    "import numpy as np"
   ]
  },
  {
   "cell_type": "code",
   "execution_count": 77,
   "id": "b5ba63d8",
   "metadata": {},
   "outputs": [],
   "source": [
    "my_array = np.random.randint(0,10,(4,4))"
   ]
  },
  {
   "cell_type": "code",
   "execution_count": 80,
   "id": "d5d2b558",
   "metadata": {},
   "outputs": [],
   "source": [
    "mylist = my_array.tolist()"
   ]
  },
  {
   "cell_type": "code",
   "execution_count": 83,
   "id": "2e0adbb7",
   "metadata": {},
   "outputs": [
    {
     "data": {
      "text/plain": [
       "[[0, 0, 5, 8], [6, 2, 2, 9], [4, 9, 4, 8], [2, 9, 9, 8]]"
      ]
     },
     "execution_count": 83,
     "metadata": {},
     "output_type": "execute_result"
    }
   ],
   "source": [
    "mylist"
   ]
  },
  {
   "cell_type": "code",
   "execution_count": 82,
   "id": "a736b1bb",
   "metadata": {},
   "outputs": [
    {
     "data": {
      "text/plain": [
       "9"
      ]
     },
     "execution_count": 82,
     "metadata": {},
     "output_type": "execute_result"
    }
   ],
   "source": [
    "mylist[1][3]"
   ]
  },
  {
   "cell_type": "markdown",
   "id": "404b025d",
   "metadata": {},
   "source": [
    "### Question 6"
   ]
  },
  {
   "cell_type": "code",
   "execution_count": 90,
   "id": "0d717b00",
   "metadata": {},
   "outputs": [],
   "source": [
    "Array1 = [0,1,2]\n",
    "Array2 = [2,1,0]"
   ]
  },
  {
   "cell_type": "code",
   "execution_count": 91,
   "id": "f638007e",
   "metadata": {},
   "outputs": [
    {
     "data": {
      "text/plain": [
       "array([[ 1., -1.],\n",
       "       [-1.,  1.]])"
      ]
     },
     "execution_count": 91,
     "metadata": {},
     "output_type": "execute_result"
    }
   ],
   "source": [
    "np.cov(Array1,Array2)"
   ]
  },
  {
   "cell_type": "markdown",
   "id": "a3f09dc1",
   "metadata": {},
   "source": [
    "### Question 7"
   ]
  },
  {
   "cell_type": "code",
   "execution_count": 88,
   "id": "3b8624b2",
   "metadata": {},
   "outputs": [],
   "source": [
    "def computation(D):\n",
    "    listresult = []\n",
    "    C = 50\n",
    "    H = 30\n",
    "    for i in range (0,len(D)):\n",
    "        Q = ((2*C*D[i])/H)**0.5\n",
    "        listresult.append(round(Q))\n",
    "    return listresult"
   ]
  },
  {
   "cell_type": "code",
   "execution_count": 89,
   "id": "0c9df4d8",
   "metadata": {},
   "outputs": [
    {
     "data": {
      "text/plain": [
       "[18, 22, 24]"
      ]
     },
     "execution_count": 89,
     "metadata": {},
     "output_type": "execute_result"
    }
   ],
   "source": [
    "computation([100,150,180])"
   ]
  },
  {
   "cell_type": "code",
   "execution_count": null,
   "id": "6604d038",
   "metadata": {},
   "outputs": [],
   "source": []
  }
 ],
 "metadata": {
  "kernelspec": {
   "display_name": "Python 3 (ipykernel)",
   "language": "python",
   "name": "python3"
  },
  "language_info": {
   "codemirror_mode": {
    "name": "ipython",
    "version": 3
   },
   "file_extension": ".py",
   "mimetype": "text/x-python",
   "name": "python",
   "nbconvert_exporter": "python",
   "pygments_lexer": "ipython3",
   "version": "3.10.9"
  }
 },
 "nbformat": 4,
 "nbformat_minor": 5
}
