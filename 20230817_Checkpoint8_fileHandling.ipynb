{
 "cells": [
  {
   "cell_type": "code",
   "execution_count": 279,
   "id": "0c1fb98b",
   "metadata": {},
   "outputs": [],
   "source": [
    "file = open('pythonCheckpoint8.txt',mode = 'r')"
   ]
  },
  {
   "cell_type": "code",
   "execution_count": 280,
   "id": "7fdcfe2f",
   "metadata": {},
   "outputs": [
    {
     "data": {
      "text/plain": [
       "['What is Python language?                                                \\n',\n",
       " 'Python is a widely used high-level, general-purpose, interpreted, dynamic programming language.Its design philosophy emphasizes code readability, and its syntax allows programmers to express concepts in fewer lines of code than possible in \\n',\n",
       " 'languages such as C++ or Java. \\n',\n",
       " 'Python supports multiple programming paradigms, including object-oriented, imperative and functional programming or procedural styles. It features a dynamic type system and automatic memory management and has a large and comprehensive standard library.The best way we learn anything is by practice and exercise questions. We  have started this section for those (beginner to intermediate) who are familiar with Python.']"
      ]
     },
     "execution_count": 280,
     "metadata": {},
     "output_type": "execute_result"
    }
   ],
   "source": [
    "file.readlines()"
   ]
  },
  {
   "cell_type": "markdown",
   "id": "12535bce",
   "metadata": {},
   "source": [
    "2. Write a Python program to read the first n lines of a file."
   ]
  },
  {
   "cell_type": "code",
   "execution_count": 88,
   "id": "18e1f2cc",
   "metadata": {},
   "outputs": [],
   "source": [
    "def readfirstlines(fichiertxt,n):\n",
    "    file = open(fichiertxt,mode = 'r')\n",
    "    i = 0\n",
    "    while i < n:\n",
    "        print(file.readline())\n",
    "        i += 1"
   ]
  },
  {
   "cell_type": "code",
   "execution_count": 89,
   "id": "5c1ac613",
   "metadata": {},
   "outputs": [
    {
     "name": "stdout",
     "output_type": "stream",
     "text": [
      "What is Python language?                                                \n",
      "\n",
      "Python is a widely used high-level, general-purpose, interpreted, dynamic programming language.Its design philosophy emphasizes code readability, and its syntax allows programmers to express concepts in fewer lines of code than possible in \n",
      "\n",
      "languages such as C++ or Java. \n",
      "\n"
     ]
    }
   ],
   "source": [
    "r = readfirstlines('pythonCheckpoint8.txt',3)"
   ]
  },
  {
   "cell_type": "markdown",
   "id": "34929da1",
   "metadata": {},
   "source": [
    "3. Write a Python program to read the last n lines of a file."
   ]
  },
  {
   "cell_type": "code",
   "execution_count": 90,
   "id": "400ae689",
   "metadata": {},
   "outputs": [],
   "source": [
    "def readlastlines(fichiertxt,n): \n",
    "    file = open(fichiertxt,mode = 'r')\n",
    "    #je stock toutes les lignes\n",
    "    malist = file.readlines()\n",
    "    while n > 0:\n",
    "        print ('{}'.format(malist[-n]))\n",
    "        n = n - 1"
   ]
  },
  {
   "cell_type": "code",
   "execution_count": 91,
   "id": "80ed1cec",
   "metadata": {},
   "outputs": [
    {
     "name": "stdout",
     "output_type": "stream",
     "text": [
      "Python is a widely used high-level, general-purpose, interpreted, dynamic programming language.Its design philosophy emphasizes code readability, and its syntax allows programmers to express concepts in fewer lines of code than possible in \n",
      "\n",
      "languages such as C++ or Java. \n",
      "\n",
      "Python supports multiple programming paradigms, including object-oriented, imperative and functional programming or procedural styles. It features a dynamic type system and automatic memory management and has a large and comprehensive standard library.The best way we learn anything is by practice and exercise questions. We  have started this section for those (beginner to intermediate) who are familiar with Python.\n"
     ]
    }
   ],
   "source": [
    "r = readlastlines('pythonCheckpoint8.txt',3)"
   ]
  },
  {
   "cell_type": "markdown",
   "id": "c052220e",
   "metadata": {},
   "source": [
    "4. Write a Python program that takes a text file as input and returns the number of words of a given text file."
   ]
  },
  {
   "cell_type": "code",
   "execution_count": 275,
   "id": "e2414a6c",
   "metadata": {},
   "outputs": [],
   "source": [
    "def numberwords(link):\n",
    "    file = open(link,mode = 'r')\n",
    "    limit = len(file.read())\n",
    "    file = open(link,mode = 'r')\n",
    "    counter = 0\n",
    "\n",
    "    mylist = []\n",
    "    for i in range(limit):\n",
    "        mylist.append(file.read(1))\n",
    "\n",
    "    for element in range(limit):\n",
    "        if ((chr(65) < mylist[element] < chr(122)) == True) and ((chr(65) < mylist[element - 1] < chr(122)) == False):\n",
    "            counter += 1\n",
    "            i +=1\n",
    "        else:\n",
    "            i += 1\n",
    "    return counter"
   ]
  },
  {
   "cell_type": "code",
   "execution_count": 277,
   "id": "2c6d7ee4",
   "metadata": {},
   "outputs": [
    {
     "data": {
      "text/plain": [
       "106"
      ]
     },
     "execution_count": 277,
     "metadata": {},
     "output_type": "execute_result"
    }
   ],
   "source": [
    "numberwords('pythonCheckpoint8.txt')"
   ]
  },
  {
   "cell_type": "code",
   "execution_count": null,
   "id": "aed1e666",
   "metadata": {},
   "outputs": [],
   "source": []
  }
 ],
 "metadata": {
  "kernelspec": {
   "display_name": "Python 3 (ipykernel)",
   "language": "python",
   "name": "python3"
  },
  "language_info": {
   "codemirror_mode": {
    "name": "ipython",
    "version": 3
   },
   "file_extension": ".py",
   "mimetype": "text/x-python",
   "name": "python",
   "nbconvert_exporter": "python",
   "pygments_lexer": "ipython3",
   "version": "3.10.9"
  }
 },
 "nbformat": 4,
 "nbformat_minor": 5
}
