{
 "cells": [
  {
   "cell_type": "markdown",
   "id": "77166258",
   "metadata": {},
   "source": [
    "    Write a Python program for a binary search.\n",
    "\n",
    "Test Data: \n",
    "\n",
    "    binary_search([1,2,3,5,8], 6) -> False\n",
    "    binary_search([1,2,3,5,8], 5) -> True"
   ]
  },
  {
   "cell_type": "code",
   "execution_count": 8,
   "id": "cab290cf",
   "metadata": {},
   "outputs": [],
   "source": [
    "def binary_search(maliste,elementtocheck):\n",
    "    \n",
    "    conditioncheck = False\n",
    "    i = 0\n",
    "    \n",
    "    while i <= len(maliste) - 1:\n",
    "        if maliste[i] == elementtocheck:\n",
    "            conditioncheck = True\n",
    "            break\n",
    "        else:\n",
    "            i += 1\n",
    "        \n",
    "    return conditioncheck       "
   ]
  },
  {
   "cell_type": "code",
   "execution_count": 9,
   "id": "579a397c",
   "metadata": {},
   "outputs": [
    {
     "data": {
      "text/plain": [
       "False"
      ]
     },
     "execution_count": 9,
     "metadata": {},
     "output_type": "execute_result"
    }
   ],
   "source": [
    "binary_search([1,2,3,5,8], 6)"
   ]
  },
  {
   "cell_type": "code",
   "execution_count": 15,
   "id": "d77183ca",
   "metadata": {},
   "outputs": [
    {
     "data": {
      "text/plain": [
       "True"
      ]
     },
     "execution_count": 15,
     "metadata": {},
     "output_type": "execute_result"
    }
   ],
   "source": [
    "binary_search([1,2,3,5,8], 5)"
   ]
  },
  {
   "cell_type": "code",
   "execution_count": 21,
   "id": "96e5a3a2",
   "metadata": {},
   "outputs": [],
   "source": [
    "def binarysearch(sequence,item):\n",
    "    #we know want to know the middle position for each iteration, so we need the beginning and the end of the sequence\n",
    "    begin_index = 0\n",
    "    end_index = len(sequence) - 1 #python starts index position at 0\n",
    "    \n",
    "    while begin_index <= end_index:\n",
    "        midpoint = begin_index + (end_index - begin_index)//2\n",
    "        #on doit maintenant retourner la valeur plutôt que la position\n",
    "        midpoint_value = sequence[midpoint]\n",
    "        if midpoint_value == item:\n",
    "            return True\n",
    "    \n",
    "        elif item < midpoint_value:\n",
    "            end_index = midpoint - 1\n",
    "        \n",
    "        else:\n",
    "            begin_index = midpoint + 1\n",
    "            \n",
    "    return False"
   ]
  },
  {
   "cell_type": "code",
   "execution_count": 23,
   "id": "ef9fdf60",
   "metadata": {},
   "outputs": [
    {
     "data": {
      "text/plain": [
       "False"
      ]
     },
     "execution_count": 23,
     "metadata": {},
     "output_type": "execute_result"
    }
   ],
   "source": [
    "binarysearch([1,2,3,5,8], 6)"
   ]
  },
  {
   "cell_type": "code",
   "execution_count": 24,
   "id": "0e26c472",
   "metadata": {},
   "outputs": [
    {
     "data": {
      "text/plain": [
       "True"
      ]
     },
     "execution_count": 24,
     "metadata": {},
     "output_type": "execute_result"
    }
   ],
   "source": [
    "binary_search([1,2,3,5,8], 5)"
   ]
  },
  {
   "cell_type": "markdown",
   "id": "3cd85ad9",
   "metadata": {},
   "source": [
    "2. Write a Python program to calculate the value of 'a' to the power 'b'."
   ]
  },
  {
   "cell_type": "code",
   "execution_count": 17,
   "id": "d7603763",
   "metadata": {},
   "outputs": [],
   "source": [
    "def power(a,b):\n",
    "    computation = a ** b\n",
    "    return computation"
   ]
  },
  {
   "cell_type": "code",
   "execution_count": 18,
   "id": "67dbc2df",
   "metadata": {},
   "outputs": [
    {
     "data": {
      "text/plain": [
       "81"
      ]
     },
     "execution_count": 18,
     "metadata": {},
     "output_type": "execute_result"
    }
   ],
   "source": [
    "power(3,4)"
   ]
  },
  {
   "cell_type": "markdown",
   "id": "c35195ee",
   "metadata": {},
   "source": [
    "  3. Write a Python program to sort a list of elements using the bubble sort algorithm.\n",
    "\n",
    "Sample Data: [29,13,22,37,52,49,46,71,56]\n",
    "\n",
    "Expected result: [13, 22, 29, 37, 42, 46, 49, 56, 71]"
   ]
  },
  {
   "cell_type": "code",
   "execution_count": 30,
   "id": "693e341a",
   "metadata": {},
   "outputs": [],
   "source": [
    "def BubbleSort(maliste):\n",
    "    N = len(maliste)\n",
    "    while N > 2:\n",
    "        for i in range(0,N-1):\n",
    "            if maliste[i] > maliste[i+1]:\n",
    "                temp = maliste[i+1]\n",
    "                maliste[i+1] = maliste[i]\n",
    "                maliste[i] = temp\n",
    "        N -= 1\n",
    "    return maliste"
   ]
  },
  {
   "cell_type": "code",
   "execution_count": 31,
   "id": "af80186d",
   "metadata": {},
   "outputs": [],
   "source": [
    "SampleData = [29,13,22,37,52,49,46,71,56]"
   ]
  },
  {
   "cell_type": "code",
   "execution_count": 32,
   "id": "60a81859",
   "metadata": {},
   "outputs": [
    {
     "data": {
      "text/plain": [
       "[13, 22, 29, 37, 46, 49, 52, 56, 71]"
      ]
     },
     "execution_count": 32,
     "metadata": {},
     "output_type": "execute_result"
    }
   ],
   "source": [
    "BubbleSort(SampleData)"
   ]
  },
  {
   "cell_type": "markdown",
   "id": "6c3fafdb",
   "metadata": {},
   "source": [
    "      4. Write a Python program to sort a list of elements using the merge sort algorithm.\n",
    "\n",
    "Sample Data: [29,13,22,37,52,49,46,71,56]\n",
    "\n",
    "Expected result: [13, 22, 29, 37, 42, 46, 49, 56, 71]"
   ]
  },
  {
   "cell_type": "code",
   "execution_count": null,
   "id": "a62bf790",
   "metadata": {},
   "outputs": [],
   "source": [
    "#divide and conquer"
   ]
  },
  {
   "cell_type": "code",
   "execution_count": 174,
   "id": "2e54cfc4",
   "metadata": {},
   "outputs": [],
   "source": [
    "def mergeSort(myList):\n",
    "    if len(myList) >1:\n",
    "        mid = len(myList) // 2\n",
    "        left = myList[:mid]\n",
    "        right = myList[mid:]\n",
    "        \n",
    "        #Recursive call on each behalf\n",
    "        mergeSort(left)\n",
    "        mergeSort(right)\n",
    "        \n",
    "        #Two iterators for traversing the two halves\n",
    "        i = 0\n",
    "        j = 0\n",
    "        \n",
    "        #Iterator for the main list\n",
    "        k = 0\n",
    "        \n",
    "        #on break tout en single elements\n",
    "        while i < len(left) and j < len(right):\n",
    "            if left[i] < right[j]:\n",
    "                #the value from the left half has been used\n",
    "                myList[k] = left[i]"
   ]
  },
  {
   "cell_type": "code",
   "execution_count": 175,
   "id": "2c842054",
   "metadata": {},
   "outputs": [],
   "source": [
    "MaList = [29,13,22,37,52,49,46,71,56]"
   ]
  },
  {
   "cell_type": "code",
   "execution_count": 176,
   "id": "5e4022e3",
   "metadata": {},
   "outputs": [
    {
     "ename": "KeyboardInterrupt",
     "evalue": "",
     "output_type": "error",
     "traceback": [
      "\u001b[0;31m---------------------------------------------------------------------------\u001b[0m",
      "\u001b[0;31mKeyboardInterrupt\u001b[0m                         Traceback (most recent call last)",
      "Cell \u001b[0;32mIn[176], line 1\u001b[0m\n\u001b[0;32m----> 1\u001b[0m \u001b[43mmergeSort\u001b[49m\u001b[43m(\u001b[49m\u001b[43mMaList\u001b[49m\u001b[43m)\u001b[49m\n",
      "Cell \u001b[0;32mIn[174], line 8\u001b[0m, in \u001b[0;36mmergeSort\u001b[0;34m(myList)\u001b[0m\n\u001b[1;32m      5\u001b[0m right \u001b[38;5;241m=\u001b[39m myList[mid:]\n\u001b[1;32m      7\u001b[0m \u001b[38;5;66;03m#Recursive call on each behalf\u001b[39;00m\n\u001b[0;32m----> 8\u001b[0m \u001b[43mmergeSort\u001b[49m\u001b[43m(\u001b[49m\u001b[43mleft\u001b[49m\u001b[43m)\u001b[49m\n\u001b[1;32m      9\u001b[0m mergeSort(right)\n\u001b[1;32m     11\u001b[0m \u001b[38;5;66;03m#Two iterators for traversing the two halves\u001b[39;00m\n",
      "Cell \u001b[0;32mIn[174], line 8\u001b[0m, in \u001b[0;36mmergeSort\u001b[0;34m(myList)\u001b[0m\n\u001b[1;32m      5\u001b[0m right \u001b[38;5;241m=\u001b[39m myList[mid:]\n\u001b[1;32m      7\u001b[0m \u001b[38;5;66;03m#Recursive call on each behalf\u001b[39;00m\n\u001b[0;32m----> 8\u001b[0m \u001b[43mmergeSort\u001b[49m\u001b[43m(\u001b[49m\u001b[43mleft\u001b[49m\u001b[43m)\u001b[49m\n\u001b[1;32m      9\u001b[0m mergeSort(right)\n\u001b[1;32m     11\u001b[0m \u001b[38;5;66;03m#Two iterators for traversing the two halves\u001b[39;00m\n",
      "Cell \u001b[0;32mIn[174], line 19\u001b[0m, in \u001b[0;36mmergeSort\u001b[0;34m(myList)\u001b[0m\n\u001b[1;32m     16\u001b[0m k \u001b[38;5;241m=\u001b[39m \u001b[38;5;241m0\u001b[39m\n\u001b[1;32m     18\u001b[0m \u001b[38;5;66;03m#on break tout en single elements\u001b[39;00m\n\u001b[0;32m---> 19\u001b[0m \u001b[38;5;28;01mwhile\u001b[39;00m i \u001b[38;5;241m<\u001b[39m \u001b[38;5;28mlen\u001b[39m(left) \u001b[38;5;129;01mand\u001b[39;00m j \u001b[38;5;241m<\u001b[39m \u001b[38;5;28;43mlen\u001b[39;49m\u001b[43m(\u001b[49m\u001b[43mright\u001b[49m\u001b[43m)\u001b[49m:\n\u001b[1;32m     20\u001b[0m     \u001b[38;5;28;01mif\u001b[39;00m left[i] \u001b[38;5;241m<\u001b[39m right[j]:\n\u001b[1;32m     21\u001b[0m         \u001b[38;5;66;03m#the value from the left half has been used\u001b[39;00m\n\u001b[1;32m     22\u001b[0m         myList[k] \u001b[38;5;241m=\u001b[39m left[i]\n",
      "\u001b[0;31mKeyboardInterrupt\u001b[0m: "
     ]
    }
   ],
   "source": [
    "mergeSort(MaList)"
   ]
  },
  {
   "cell_type": "code",
   "execution_count": null,
   "id": "d5cd2369",
   "metadata": {},
   "outputs": [],
   "source": [
    "myList"
   ]
  },
  {
   "cell_type": "markdown",
   "id": "142350db",
   "metadata": {},
   "source": [
    "       5. Write a Python program to sort a list of elements using the quick sort algorithm.\n",
    "\n",
    "Sample Data: [29,13,22,37,52,49,46,71,56]\n",
    "\n",
    "Expected result: [13, 22, 29, 37, 42, 46, 49, 56, 71]"
   ]
  },
  {
   "cell_type": "code",
   "execution_count": 107,
   "id": "27dad9aa",
   "metadata": {},
   "outputs": [],
   "source": [
    "myList = [29,13,22,37,52,49,46,71,56]"
   ]
  },
  {
   "cell_type": "code",
   "execution_count": 108,
   "id": "0f673acc",
   "metadata": {},
   "outputs": [],
   "source": [
    "#on définit le pivot\n",
    "pivot = myList[len(myList)//2]"
   ]
  },
  {
   "cell_type": "code",
   "execution_count": 109,
   "id": "b9b594a1",
   "metadata": {},
   "outputs": [],
   "source": [
    "#on swap le pivot avec le dernier élément de la liste\n",
    "myList[len(myList)//2] = myList[len(myList)-1]\n",
    "myList[len(myList)-1] = pivot"
   ]
  },
  {
   "cell_type": "code",
   "execution_count": 118,
   "id": "4cef83f7",
   "metadata": {},
   "outputs": [],
   "source": [
    "#on va chercher le premier élément qui est plus petit que le pivot\n",
    "#en partant de la droite\n",
    "\n",
    "#initiatlisation de la valeur\n",
    "itemfromright = max(myList) + 1\n",
    "j = len(myList)-2\n",
    "while itemfromright > pivot:\n",
    "    itemfromright = myList[j]\n",
    "    positionitemfromright = j\n",
    "    j -=1\n",
    "\n",
    "\n",
    "#on va chercher le premier élément qui est plus grand que le pivot\n",
    "#en partant de la gauche\n",
    "itemfromleft = 0\n",
    "i = 0\n",
    "while itemfromleft < pivot:\n",
    "    itemfromleft = myList[i]\n",
    "    positionitemfromleft = i\n",
    "    i +=1\n",
    "\n",
    "if positionitemfromright > positionitemfromleft:\n",
    "    temp = myList[positionitemfromright]\n",
    "    myList[positionitemfromright] = myList[positionitemfromleft]\n",
    "    myList[positionitemfromleft] = temp\n",
    "else:\n",
    "    myList[len(myList)-1] = itemfromleft\n",
    "    myList[positionitemfromleft] = pivot\n",
    "    \n",
    "\n",
    "    "
   ]
  },
  {
   "cell_type": "code",
   "execution_count": 120,
   "id": "ebea195e",
   "metadata": {},
   "outputs": [
    {
     "data": {
      "text/plain": [
       "[29, 13, 22, 37, 46, 49, 52, 71, 52]"
      ]
     },
     "execution_count": 120,
     "metadata": {},
     "output_type": "execute_result"
    }
   ],
   "source": [
    "myList"
   ]
  },
  {
   "cell_type": "code",
   "execution_count": 141,
   "id": "ff7cb05c",
   "metadata": {},
   "outputs": [],
   "source": [
    "#CORRECTION\n",
    "def quicksort(array):\n",
    "    if len(array) <=1:\n",
    "        return array\n",
    "    \n",
    "    pivot = array[len(array)//2]\n",
    "    left = [x for x in array if x < pivot]\n",
    "    right = [x for x in array if x > pivot]\n",
    "    middle = [x for x in array if x == pivot]\n",
    "    \n",
    "    return quicksort(left) + middle + quicksort(right) "
   ]
  },
  {
   "cell_type": "code",
   "execution_count": 142,
   "id": "d0280f98",
   "metadata": {},
   "outputs": [],
   "source": [
    "sampledata = [29, 13, 22, 37, 46, 49, 52, 71, 52]"
   ]
  },
  {
   "cell_type": "code",
   "execution_count": 143,
   "id": "7eb99b50",
   "metadata": {},
   "outputs": [
    {
     "data": {
      "text/plain": [
       "[13, 22, 29, 37, 46, 49, 52, 52, 71]"
      ]
     },
     "execution_count": 143,
     "metadata": {},
     "output_type": "execute_result"
    }
   ],
   "source": [
    "quicksort(sampledata)"
   ]
  },
  {
   "cell_type": "code",
   "execution_count": null,
   "id": "3562ddfc",
   "metadata": {},
   "outputs": [],
   "source": []
  }
 ],
 "metadata": {
  "kernelspec": {
   "display_name": "Python 3 (ipykernel)",
   "language": "python",
   "name": "python3"
  },
  "language_info": {
   "codemirror_mode": {
    "name": "ipython",
    "version": 3
   },
   "file_extension": ".py",
   "mimetype": "text/x-python",
   "name": "python",
   "nbconvert_exporter": "python",
   "pygments_lexer": "ipython3",
   "version": "3.10.9"
  }
 },
 "nbformat": 4,
 "nbformat_minor": 5
}
