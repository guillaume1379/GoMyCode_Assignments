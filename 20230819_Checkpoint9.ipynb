{
 "cells": [
  {
   "cell_type": "markdown",
   "id": "c7b71c2f",
   "metadata": {},
   "source": [
    "    Write a Python program for a binary search.\n",
    "\n",
    "Test Data: \n",
    "\n",
    "    binary_search([1,2,3,5,8], 6) -> False\n",
    "    binary_search([1,2,3,5,8], 5) -> True"
   ]
  },
  {
   "cell_type": "code",
   "execution_count": 8,
   "id": "334fdd68",
   "metadata": {},
   "outputs": [],
   "source": [
    "def binary_search(maliste,elementtocheck):\n",
    "    \n",
    "    conditioncheck = False\n",
    "    i = 0\n",
    "    \n",
    "    while i <= len(maliste) - 1:\n",
    "        if maliste[i] == elementtocheck:\n",
    "            conditioncheck = True\n",
    "            break\n",
    "        else:\n",
    "            i += 1\n",
    "        \n",
    "    return conditioncheck       "
   ]
  },
  {
   "cell_type": "code",
   "execution_count": 9,
   "id": "1835fd3a",
   "metadata": {},
   "outputs": [
    {
     "data": {
      "text/plain": [
       "False"
      ]
     },
     "execution_count": 9,
     "metadata": {},
     "output_type": "execute_result"
    }
   ],
   "source": [
    "binary_search([1,2,3,5,8], 6)"
   ]
  },
  {
   "cell_type": "code",
   "execution_count": 15,
   "id": "b295502d",
   "metadata": {},
   "outputs": [
    {
     "data": {
      "text/plain": [
       "True"
      ]
     },
     "execution_count": 15,
     "metadata": {},
     "output_type": "execute_result"
    }
   ],
   "source": [
    "binary_search([1,2,3,5,8], 5)"
   ]
  },
  {
   "cell_type": "code",
   "execution_count": 21,
   "id": "b9503a3d",
   "metadata": {},
   "outputs": [],
   "source": [
    "def binarysearch(sequence,item):\n",
    "    #we know want to know the middle position for each iteration, so we need the beginning and the end of the sequence\n",
    "    begin_index = 0\n",
    "    end_index = len(sequence) - 1 #python starts index position at 0\n",
    "    \n",
    "    while begin_index <= end_index:\n",
    "        midpoint = begin_index + (end_index - begin_index)//2\n",
    "        #on doit maintenant retourner la valeur plutôt que la position\n",
    "        midpoint_value = sequence[midpoint]\n",
    "        if midpoint_value == item:\n",
    "            return True\n",
    "    \n",
    "        elif item < midpoint_value:\n",
    "            end_index = midpoint - 1\n",
    "        \n",
    "        else:\n",
    "            begin_index = midpoint + 1\n",
    "            \n",
    "    return False"
   ]
  },
  {
   "cell_type": "code",
   "execution_count": 23,
   "id": "1c447a1f",
   "metadata": {},
   "outputs": [
    {
     "data": {
      "text/plain": [
       "False"
      ]
     },
     "execution_count": 23,
     "metadata": {},
     "output_type": "execute_result"
    }
   ],
   "source": [
    "binarysearch([1,2,3,5,8], 6)"
   ]
  },
  {
   "cell_type": "code",
   "execution_count": 24,
   "id": "d52d8cb6",
   "metadata": {},
   "outputs": [
    {
     "data": {
      "text/plain": [
       "True"
      ]
     },
     "execution_count": 24,
     "metadata": {},
     "output_type": "execute_result"
    }
   ],
   "source": [
    "binary_search([1,2,3,5,8], 5)"
   ]
  },
  {
   "cell_type": "markdown",
   "id": "5f780e8c",
   "metadata": {},
   "source": [
    "2. Write a Python program to calculate the value of 'a' to the power 'b'."
   ]
  },
  {
   "cell_type": "code",
   "execution_count": 17,
   "id": "123b0206",
   "metadata": {},
   "outputs": [],
   "source": [
    "def power(a,b):\n",
    "    computation = a ** b\n",
    "    return computation"
   ]
  },
  {
   "cell_type": "code",
   "execution_count": 18,
   "id": "ba788088",
   "metadata": {},
   "outputs": [
    {
     "data": {
      "text/plain": [
       "81"
      ]
     },
     "execution_count": 18,
     "metadata": {},
     "output_type": "execute_result"
    }
   ],
   "source": [
    "power(3,4)"
   ]
  },
  {
   "cell_type": "markdown",
   "id": "16456237",
   "metadata": {},
   "source": [
    "  3. Write a Python program to sort a list of elements using the bubble sort algorithm.\n",
    "\n",
    "Sample Data: [29,13,22,37,52,49,46,71,56]\n",
    "\n",
    "Expected result: [13, 22, 29, 37, 42, 46, 49, 56, 71]"
   ]
  },
  {
   "cell_type": "code",
   "execution_count": 30,
   "id": "6c7f6977",
   "metadata": {},
   "outputs": [],
   "source": [
    "def BubbleSort(maliste):\n",
    "    N = len(maliste)\n",
    "    while N > 2:\n",
    "        for i in range(0,N-1):\n",
    "            if maliste[i] > maliste[i+1]:\n",
    "                temp = maliste[i+1]\n",
    "                maliste[i+1] = maliste[i]\n",
    "                maliste[i] = temp\n",
    "        N -= 1\n",
    "    return maliste"
   ]
  },
  {
   "cell_type": "code",
   "execution_count": 31,
   "id": "cc9b8ea9",
   "metadata": {},
   "outputs": [],
   "source": [
    "SampleData = [29,13,22,37,52,49,46,71,56]"
   ]
  },
  {
   "cell_type": "code",
   "execution_count": 32,
   "id": "f13a2cbd",
   "metadata": {},
   "outputs": [
    {
     "data": {
      "text/plain": [
       "[13, 22, 29, 37, 46, 49, 52, 56, 71]"
      ]
     },
     "execution_count": 32,
     "metadata": {},
     "output_type": "execute_result"
    }
   ],
   "source": [
    "BubbleSort(SampleData)"
   ]
  },
  {
   "cell_type": "markdown",
   "id": "6adf49d6",
   "metadata": {},
   "source": [
    "      4. Write a Python program to sort a list of elements using the merge sort algorithm.\n",
    "\n",
    "Sample Data: [29,13,22,37,52,49,46,71,56]\n",
    "\n",
    "Expected result: [13, 22, 29, 37, 42, 46, 49, 56, 71]"
   ]
  },
  {
   "cell_type": "code",
   "execution_count": null,
   "id": "d96afea4",
   "metadata": {},
   "outputs": [],
   "source": [
    "#divide and conquer"
   ]
  },
  {
   "cell_type": "code",
   "execution_count": 177,
   "id": "f803971d",
   "metadata": {},
   "outputs": [],
   "source": [
    "def mergeSort(myList):\n",
    "    if len(myList) >1:\n",
    "        mid = len(myList) // 2\n",
    "        left = myList[:mid]\n",
    "        right = myList[mid:]\n",
    "        \n",
    "        #Recursive call on each behalf\n",
    "        mergeSort(left)\n",
    "        mergeSort(right)\n",
    "        \n",
    "        #Two iterators for traversing the two halves\n",
    "        i = 0\n",
    "        j = 0\n",
    "        \n",
    "        #Iterator for the main list\n",
    "        k = 0\n",
    "        \n",
    "        #on break tout en single elements\n",
    "        while i < len(left) and j < len(right):\n",
    "            if left[i] < right[j]:\n",
    "                #the value from the left half has been used\n",
    "                myList[k] = left[i]\n",
    "                # Move the iterator forward\n",
    "                i += 1\n",
    "            else:\n",
    "                myList[k] = right[j]\n",
    "                j += 1\n",
    "                # Move to the next slot\n",
    "            k += 1\n",
    "\n",
    "        # For all the remaining values\n",
    "        while i < len(left):\n",
    "            myList[k] = left[i]\n",
    "            i += 1\n",
    "            k += 1\n",
    "\n",
    "        while j < len(right):\n",
    "            myList[k]=right[j]\n",
    "            j += 1\n",
    "            k += 1\n",
    "            \n",
    "    return myList"
   ]
  },
  {
   "cell_type": "code",
   "execution_count": 178,
   "id": "881b2974",
   "metadata": {},
   "outputs": [],
   "source": [
    "MaList = [29,13,22,37,52,49,46,71,56]"
   ]
  },
  {
   "cell_type": "code",
   "execution_count": 179,
   "id": "5aca61b6",
   "metadata": {},
   "outputs": [
    {
     "data": {
      "text/plain": [
       "[13, 22, 29, 37, 46, 49, 52, 56, 71]"
      ]
     },
     "execution_count": 179,
     "metadata": {},
     "output_type": "execute_result"
    }
   ],
   "source": [
    "mergeSort(MaList)"
   ]
  },
  {
   "cell_type": "code",
   "execution_count": null,
   "id": "d89a57c3",
   "metadata": {},
   "outputs": [],
   "source": [
    "myList"
   ]
  },
  {
   "cell_type": "markdown",
   "id": "18a4a789",
   "metadata": {},
   "source": [
    "       5. Write a Python program to sort a list of elements using the quick sort algorithm.\n",
    "\n",
    "Sample Data: [29,13,22,37,52,49,46,71,56]\n",
    "\n",
    "Expected result: [13, 22, 29, 37, 42, 46, 49, 56, 71]"
   ]
  },
  {
   "cell_type": "code",
   "execution_count": 107,
   "id": "f7ad21d3",
   "metadata": {},
   "outputs": [],
   "source": [
    "myList = [29,13,22,37,52,49,46,71,56]"
   ]
  },
  {
   "cell_type": "code",
   "execution_count": 108,
   "id": "63f83687",
   "metadata": {},
   "outputs": [],
   "source": [
    "#on définit le pivot\n",
    "pivot = myList[len(myList)//2]"
   ]
  },
  {
   "cell_type": "code",
   "execution_count": 109,
   "id": "b023731b",
   "metadata": {},
   "outputs": [],
   "source": [
    "#on swap le pivot avec le dernier élément de la liste\n",
    "myList[len(myList)//2] = myList[len(myList)-1]\n",
    "myList[len(myList)-1] = pivot"
   ]
  },
  {
   "cell_type": "code",
   "execution_count": 118,
   "id": "8ca2ee50",
   "metadata": {},
   "outputs": [],
   "source": [
    "#on va chercher le premier élément qui est plus petit que le pivot\n",
    "#en partant de la droite\n",
    "\n",
    "#initiatlisation de la valeur\n",
    "itemfromright = max(myList) + 1\n",
    "j = len(myList)-2\n",
    "while itemfromright > pivot:\n",
    "    itemfromright = myList[j]\n",
    "    positionitemfromright = j\n",
    "    j -=1\n",
    "\n",
    "\n",
    "#on va chercher le premier élément qui est plus grand que le pivot\n",
    "#en partant de la gauche\n",
    "itemfromleft = 0\n",
    "i = 0\n",
    "while itemfromleft < pivot:\n",
    "    itemfromleft = myList[i]\n",
    "    positionitemfromleft = i\n",
    "    i +=1\n",
    "\n",
    "if positionitemfromright > positionitemfromleft:\n",
    "    temp = myList[positionitemfromright]\n",
    "    myList[positionitemfromright] = myList[positionitemfromleft]\n",
    "    myList[positionitemfromleft] = temp\n",
    "else:\n",
    "    myList[len(myList)-1] = itemfromleft\n",
    "    myList[positionitemfromleft] = pivot\n",
    "    \n",
    "\n",
    "    "
   ]
  },
  {
   "cell_type": "code",
   "execution_count": 120,
   "id": "4a6e9f96",
   "metadata": {},
   "outputs": [
    {
     "data": {
      "text/plain": [
       "[29, 13, 22, 37, 46, 49, 52, 71, 52]"
      ]
     },
     "execution_count": 120,
     "metadata": {},
     "output_type": "execute_result"
    }
   ],
   "source": [
    "myList"
   ]
  },
  {
   "cell_type": "code",
   "execution_count": 141,
   "id": "2d462040",
   "metadata": {},
   "outputs": [],
   "source": [
    "#CORRECTION\n",
    "def quicksort(array):\n",
    "    if len(array) <=1:\n",
    "        return array\n",
    "    \n",
    "    pivot = array[len(array)//2]\n",
    "    left = [x for x in array if x < pivot]\n",
    "    right = [x for x in array if x > pivot]\n",
    "    middle = [x for x in array if x == pivot]\n",
    "    \n",
    "    return quicksort(left) + middle + quicksort(right) "
   ]
  },
  {
   "cell_type": "code",
   "execution_count": 142,
   "id": "6ea7ea81",
   "metadata": {},
   "outputs": [],
   "source": [
    "sampledata = [29, 13, 22, 37, 46, 49, 52, 71, 52]"
   ]
  },
  {
   "cell_type": "code",
   "execution_count": 143,
   "id": "94a6a6ff",
   "metadata": {},
   "outputs": [
    {
     "data": {
      "text/plain": [
       "[13, 22, 29, 37, 46, 49, 52, 52, 71]"
      ]
     },
     "execution_count": 143,
     "metadata": {},
     "output_type": "execute_result"
    }
   ],
   "source": [
    "quicksort(sampledata)"
   ]
  },
  {
   "cell_type": "code",
   "execution_count": null,
   "id": "c65e1833",
   "metadata": {},
   "outputs": [],
   "source": []
  }
 ],
 "metadata": {
  "kernelspec": {
   "display_name": "Python 3 (ipykernel)",
   "language": "python",
   "name": "python3"
  },
  "language_info": {
   "codemirror_mode": {
    "name": "ipython",
    "version": 3
   },
   "file_extension": ".py",
   "mimetype": "text/x-python",
   "name": "python",
   "nbconvert_exporter": "python",
   "pygments_lexer": "ipython3",
   "version": "3.10.9"
  }
 },
 "nbformat": 4,
 "nbformat_minor": 5
}
