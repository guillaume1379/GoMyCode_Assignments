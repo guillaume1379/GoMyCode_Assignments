{
 "cells": [
  {
   "cell_type": "markdown",
   "id": "612cd53e",
   "metadata": {},
   "source": [
    "Instructions\n",
    "\n",
    "    Import the Tkinter module by writing import tkinter as tk at the beginning of your code.\n",
    "    Define a function named fahrenheit_to_celsius() that will be called when the conversion button is clicked. This function should convert the entered temperature from Fahrenheit to Celsius and display the result in the label.\n",
    "    Create a Tkinter window by writing window = tk.Tk(). Set the title of the window to \"Temperature Converter\" by writing window.title(\"Temperature Converter\").\n",
    "    Set the window to a fixed size by writing window.resizable(width=False, height=False).\n",
    "    Create a frame to hold the Fahrenheit entry widget and label. Write frm_entry = tk.Frame(master=window) to create the frame.\n",
    "    Create an entry widget to accept the temperature in Fahrenheit. Write ent_temperature = tk.Entry(master=frm_entry, width=10) to create the entry widget.\n",
    "    Create a label widget to display the degree symbol and the text \"F\". Write lbl_temp = tk.Label(master=frm_entry, text=\"\\N{DEGREE FAHRENHEIT}\") to create the label widget.\n",
    "    Use the grid() geometry manager to arrange the entry and label widgets in the frame. Write ent_temperature.grid(row=0, column=0, sticky=\"e\") and lbl_temp.grid(row=0, column=1, sticky=\"w\") to arrange the widgets.\n",
    "    Create a button widget to initiate the conversion process. Write btn_convert = tk.Button(master=window, text=\"\\N{RIGHTWARDS BLACK ARROW}\", command=fahrenheit_to_celsius) to create the button widget.\n",
    "    Create a label widget to display the result of the conversion in Celsius. Write lbl_result = tk.Label(master=window, text=\"\\N{DEGREE CELSIUS}\") to create the label widget.\n",
    "    Use the grid() geometry manager to arrange the frame, button, and result label widgets. Write frm_entry.grid(row=0, column=0, padx=10), btn_convert.grid(row=0, column=1, pady=10), and lbl_result.grid(row=0, column=2, padx=10) to arrange the widgets.\n",
    "    Call the mainloop() method of the window object to start the application."
   ]
  },
  {
   "cell_type": "code",
   "execution_count": 2,
   "id": "450f8340",
   "metadata": {},
   "outputs": [],
   "source": [
    "import tkinter as tk"
   ]
  },
  {
   "cell_type": "code",
   "execution_count": 44,
   "id": "6c4dd401",
   "metadata": {},
   "outputs": [],
   "source": [
    "#Create a Tkinter window \n",
    "window = tk.Tk()\n",
    "\n",
    "#create the function converter\n",
    "def fahrenheit_to_celsius():\n",
    "    Temperature= int(TemperatureInput.get())\n",
    "    Label_Result['text'] = (Temperature - 32) * 5/9\n",
    "\n",
    "\n",
    "#Create the title\n",
    "window.title('Temperature Converter')\n",
    "\n",
    "#Make the size's window fixed\n",
    "window.resizable(width=True, height=True)\n",
    "\n",
    "#Create a frame to hold the Fahrenheit entry widget and label\n",
    "#frm_entry = tk.Frame(master=window)\n",
    "\n",
    "#Create a label widget to display the degree symbol and the text \"F\"\n",
    "Label1 = tk.Label(window, text = 'F=')\n",
    "Label1.grid(row = 0,column = 0)\n",
    "\n",
    "TemperatureInput = tk.Entry(window)\n",
    "TemperatureInput.grid(row = 0, column=1)\n",
    "\n",
    "B1 = tk.Button(window, text='convert!', command = fahrenheit_to_celsius)\n",
    "B1.grid(row = 2, column = 0)\n",
    "\n",
    "Label_Result = tk.Label()\n",
    "Label_Result.grid(row = 2, column = 1)\n",
    "\n",
    "\n",
    "window.mainloop()"
   ]
  },
  {
   "cell_type": "code",
   "execution_count": null,
   "id": "97739c65",
   "metadata": {},
   "outputs": [],
   "source": []
  }
 ],
 "metadata": {
  "kernelspec": {
   "display_name": "Python 3 (ipykernel)",
   "language": "python",
   "name": "python3"
  },
  "language_info": {
   "codemirror_mode": {
    "name": "ipython",
    "version": 3
   },
   "file_extension": ".py",
   "mimetype": "text/x-python",
   "name": "python",
   "nbconvert_exporter": "python",
   "pygments_lexer": "ipython3",
   "version": "3.10.9"
  }
 },
 "nbformat": 4,
 "nbformat_minor": 5
}
