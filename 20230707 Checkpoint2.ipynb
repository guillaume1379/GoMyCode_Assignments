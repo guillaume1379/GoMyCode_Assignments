{
 "cells": [
  {
   "cell_type": "markdown",
   "id": "d6366121",
   "metadata": {},
   "source": [
    "### Exercice 1"
   ]
  },
  {
   "cell_type": "code",
   "execution_count": 1,
   "id": "700e60da",
   "metadata": {},
   "outputs": [
    {
     "name": "stdout",
     "output_type": "stream",
     "text": [
      "36\n"
     ]
    }
   ],
   "source": [
    "Samplelist = [2,3,6]\n",
    "result = 0\n",
    "for i in Samplelist:\n",
    "    result = i * i\n",
    "print(result)"
   ]
  },
  {
   "cell_type": "markdown",
   "id": "b65d2ffd",
   "metadata": {},
   "source": [
    "### Exercice 2"
   ]
  },
  {
   "cell_type": "code",
   "execution_count": 70,
   "id": "cd9662aa",
   "metadata": {},
   "outputs": [],
   "source": [
    "import operator as op"
   ]
  },
  {
   "cell_type": "code",
   "execution_count": 71,
   "id": "f9861ba2",
   "metadata": {},
   "outputs": [],
   "source": [
    "Samplelist2 = [(2,5),(1,2),(4,4),(2,3),(2,1)]"
   ]
  },
  {
   "cell_type": "code",
   "execution_count": 72,
   "id": "978ae905",
   "metadata": {},
   "outputs": [],
   "source": [
    "Samplelist2.sort(key=op.itemgetter(1) , reverse=False)"
   ]
  },
  {
   "cell_type": "code",
   "execution_count": 73,
   "id": "c22b51c9",
   "metadata": {},
   "outputs": [
    {
     "name": "stdout",
     "output_type": "stream",
     "text": [
      "[(2, 1), (1, 2), (2, 3), (4, 4), (2, 5)]\n"
     ]
    }
   ],
   "source": [
    "print(Samplelist2)"
   ]
  },
  {
   "cell_type": "markdown",
   "id": "3ab489d2",
   "metadata": {},
   "source": [
    "### Exercice 3"
   ]
  },
  {
   "cell_type": "code",
   "execution_count": 1,
   "id": "9c1a11fd",
   "metadata": {},
   "outputs": [],
   "source": [
    "d1 = {'a' : 100 , 'b' : 200 , 'c' : 300}"
   ]
  },
  {
   "cell_type": "code",
   "execution_count": 2,
   "id": "3f6ee687",
   "metadata": {},
   "outputs": [],
   "source": [
    "d2 = {'a' : 300 , 'b' : 200 , 'e' : 400}"
   ]
  },
  {
   "cell_type": "code",
   "execution_count": 3,
   "id": "d93a8002",
   "metadata": {},
   "outputs": [],
   "source": [
    "newdico = dict.fromkeys(d1)"
   ]
  },
  {
   "cell_type": "code",
   "execution_count": 4,
   "id": "f9c382bb",
   "metadata": {},
   "outputs": [],
   "source": [
    "newdico.update(dict.fromkeys(d2)) "
   ]
  },
  {
   "cell_type": "code",
   "execution_count": 5,
   "id": "d906aba5",
   "metadata": {},
   "outputs": [],
   "source": [
    "for i in d1.keys():\n",
    "    newdico[i] = d1[i]\n",
    "for j in d2.keys():\n",
    "    newdico[j] = d2[j]"
   ]
  },
  {
   "cell_type": "code",
   "execution_count": 6,
   "id": "0db2d04f",
   "metadata": {},
   "outputs": [
    {
     "data": {
      "text/plain": [
       "{'a': 300, 'b': 200, 'c': 300, 'e': 400}"
      ]
     },
     "execution_count": 6,
     "metadata": {},
     "output_type": "execute_result"
    }
   ],
   "source": [
    "newdico"
   ]
  },
  {
   "cell_type": "markdown",
   "id": "c72ffa62",
   "metadata": {},
   "source": [
    "### Exercice 4"
   ]
  },
  {
   "cell_type": "code",
   "execution_count": 86,
   "id": "93a3336a",
   "metadata": {},
   "outputs": [],
   "source": [
    "import operator as op"
   ]
  },
  {
   "cell_type": "code",
   "execution_count": 87,
   "id": "0f3dcfca",
   "metadata": {},
   "outputs": [
    {
     "name": "stdout",
     "output_type": "stream",
     "text": [
      "what is your number?10\n"
     ]
    }
   ],
   "source": [
    "n = float(input('what is your number?'))"
   ]
  },
  {
   "cell_type": "code",
   "execution_count": 88,
   "id": "54d756d0",
   "metadata": {},
   "outputs": [
    {
     "name": "stdout",
     "output_type": "stream",
     "text": [
      "{7: 49, 1: 1, 2: 4, 3: 9, 4: 16, 5: 25, 6: 36, 8: 64, 9: 81, 10: 100}\n"
     ]
    }
   ],
   "source": [
    "i = 1\n",
    "while i <= n:\n",
    "    mydico[i] = i*i\n",
    "    i = i+1\n",
    "print(mydico)"
   ]
  },
  {
   "cell_type": "code",
   "execution_count": 89,
   "id": "8b6a8a49",
   "metadata": {},
   "outputs": [],
   "source": [
    "keys = mydico.keys()"
   ]
  },
  {
   "cell_type": "code",
   "execution_count": 90,
   "id": "84746860",
   "metadata": {},
   "outputs": [],
   "source": [
    "sortedkeys = sorted(keys)"
   ]
  },
  {
   "cell_type": "code",
   "execution_count": 91,
   "id": "30d3fab4",
   "metadata": {},
   "outputs": [
    {
     "name": "stdout",
     "output_type": "stream",
     "text": [
      "{1: 1, 2: 4, 3: 9, 4: 16, 5: 25, 6: 36, 7: 49, 8: 64, 9: 81, 10: 100}\n"
     ]
    }
   ],
   "source": [
    "mysorteddico = {}\n",
    "for j in sortedkeys:\n",
    "    mysorteddico[j] = mydico[j]\n",
    "print (mysorteddico)"
   ]
  },
  {
   "cell_type": "markdown",
   "id": "2ebd6423",
   "metadata": {},
   "source": [
    "### Exercice 5"
   ]
  },
  {
   "cell_type": "code",
   "execution_count": 39,
   "id": "5d349c94",
   "metadata": {},
   "outputs": [
    {
     "data": {
      "text/plain": [
       "[('item3', '24.50'), ('item2', '15.1'), ('item1', '12.2')]"
      ]
     },
     "execution_count": 39,
     "metadata": {},
     "output_type": "execute_result"
    }
   ],
   "source": [
    "import operator as op\n",
    "mylist = [('item1','12.2'), ('item2','15.1'),('item3','24.50')]\n",
    "sorted(mylist, key=lambda x : float(x[1]), reverse = True)"
   ]
  },
  {
   "cell_type": "markdown",
   "id": "534387e2",
   "metadata": {},
   "source": [
    "### Exercice 6"
   ]
  },
  {
   "cell_type": "code",
   "execution_count": 50,
   "id": "5db6f2e7",
   "metadata": {},
   "outputs": [],
   "source": [
    "monset = {1, 0, 2, 3, 4}"
   ]
  },
  {
   "cell_type": "code",
   "execution_count": 51,
   "id": "bdb59c0b",
   "metadata": {},
   "outputs": [
    {
     "name": "stdout",
     "output_type": "stream",
     "text": [
      "0\n",
      "1\n",
      "2\n",
      "3\n",
      "4\n"
     ]
    }
   ],
   "source": [
    "for i in monset:\n",
    "    print(i)"
   ]
  },
  {
   "cell_type": "code",
   "execution_count": 52,
   "id": "52f9cf64",
   "metadata": {},
   "outputs": [
    {
     "data": {
      "text/plain": [
       "{0, 1, 2, 3, 4, 8}"
      ]
     },
     "execution_count": 52,
     "metadata": {},
     "output_type": "execute_result"
    }
   ],
   "source": [
    "monset.add(8)\n",
    "monset"
   ]
  },
  {
   "cell_type": "code",
   "execution_count": 53,
   "id": "2a3811fb",
   "metadata": {},
   "outputs": [
    {
     "data": {
      "text/plain": [
       "{0, 1, 2, 3, 8}"
      ]
     },
     "execution_count": 53,
     "metadata": {},
     "output_type": "execute_result"
    }
   ],
   "source": [
    "monset.remove(4)\n",
    "monset"
   ]
  },
  {
   "cell_type": "code",
   "execution_count": null,
   "id": "ae9fbea4",
   "metadata": {},
   "outputs": [],
   "source": []
  }
 ],
 "metadata": {
  "kernelspec": {
   "display_name": "Python 3 (ipykernel)",
   "language": "python",
   "name": "python3"
  },
  "language_info": {
   "codemirror_mode": {
    "name": "ipython",
    "version": 3
   },
   "file_extension": ".py",
   "mimetype": "text/x-python",
   "name": "python",
   "nbconvert_exporter": "python",
   "pygments_lexer": "ipython3",
   "version": "3.10.9"
  }
 },
 "nbformat": 4,
 "nbformat_minor": 5
}
