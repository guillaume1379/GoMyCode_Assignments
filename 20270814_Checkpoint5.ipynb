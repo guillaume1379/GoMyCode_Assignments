{
 "cells": [
  {
   "cell_type": "markdown",
   "id": "9f3c385b",
   "metadata": {},
   "source": [
    "    Import the Numpy library.\n",
    "    Ask the user to enter the number of students and the number of subjects.\n",
    "    Create a Numpy array to store the marks of each student in each subject. The array should have the shape (number of students, number of subjects).\n",
    "    Ask the user to enter the marks of each student in each subject.\n",
    "    Calculate the total marks for each student using the sum() function of Numpy.\n",
    "    Calculate the percentage for each student using the total marks and the formula: percentage = (total marks / (number of subjects * 100)) * 100\n",
    "    Calculate the grade for each student using the percentage and the following grading system:\n",
    "        90% or above: A+\n",
    "        80% or above: A\n",
    "        70% or above: B+\n",
    "        60% or above: B\n",
    "        50% or above: C\n",
    "        below 50%: F\n",
    "    Display the result for each student in a tabular format with columns for student name, total marks, percentage, and grade."
   ]
  },
  {
   "cell_type": "code",
   "execution_count": 1,
   "id": "6fc799ea",
   "metadata": {},
   "outputs": [],
   "source": [
    "import numpy as np\n",
    "import pandas as pd"
   ]
  },
  {
   "cell_type": "code",
   "execution_count": 2,
   "id": "d0db3a03",
   "metadata": {},
   "outputs": [
    {
     "name": "stdout",
     "output_type": "stream",
     "text": [
      "Enter the number of students3\n",
      "Enter the number of subjects4\n"
     ]
    }
   ],
   "source": [
    "NumberStudents = int(input('Enter the number of students'))\n",
    "NumberSubjects = int(input('Enter the number of subjects'))"
   ]
  },
  {
   "cell_type": "code",
   "execution_count": 3,
   "id": "c78a97b4",
   "metadata": {},
   "outputs": [],
   "source": [
    "marks = np.zeros(shape=(NumberStudents,NumberSubjects))"
   ]
  },
  {
   "cell_type": "code",
   "execution_count": 14,
   "id": "0bf5cb45",
   "metadata": {},
   "outputs": [
    {
     "name": "stdout",
     "output_type": "stream",
     "text": [
      "Saisir la note de l'étudiant 1 pour le sujet 190\n",
      "Saisir la note de l'étudiant 1 pour le sujet 280\n",
      "Saisir la note de l'étudiant 1 pour le sujet 370\n",
      "Saisir la note de l'étudiant 1 pour le sujet 460\n",
      "Saisir la note de l'étudiant 2 pour le sujet 155\n",
      "Saisir la note de l'étudiant 2 pour le sujet 278\n",
      "Saisir la note de l'étudiant 2 pour le sujet 367\n",
      "Saisir la note de l'étudiant 2 pour le sujet 490\n",
      "Saisir la note de l'étudiant 3 pour le sujet 130\n",
      "Saisir la note de l'étudiant 3 pour le sujet 248\n",
      "Saisir la note de l'étudiant 3 pour le sujet 389\n",
      "Saisir la note de l'étudiant 3 pour le sujet 477\n"
     ]
    }
   ],
   "source": [
    "i = 0\n",
    "j = 0\n",
    "for i in range(0,NumberStudents):\n",
    "    for j in range(0,NumberSubjects):\n",
    "        marks[i,j] = int(input(\"Saisir la note de l'étudiant {} pour le sujet {}\".format(i+1,j+1)))\n",
    "        j += 1\n",
    "    i += 1"
   ]
  },
  {
   "cell_type": "code",
   "execution_count": 15,
   "id": "81067d88",
   "metadata": {},
   "outputs": [],
   "source": [
    "#Calculate the total marks for each student using the sum() function of Numpy.\n",
    "SommeNotes = []\n",
    "for element in range(0,NumberStudents):\n",
    "    SommeNotes.append(np.sum(marks[element,:]))\n",
    "    "
   ]
  },
  {
   "cell_type": "markdown",
   "id": "11b55a0e",
   "metadata": {},
   "source": [
    "Calculate the percentage for each student using the total marks and the formula: percentage = (total marks / (number of subjects * 100)) * 100"
   ]
  },
  {
   "cell_type": "code",
   "execution_count": 16,
   "id": "23c9fc9e",
   "metadata": {},
   "outputs": [],
   "source": [
    "percentage = []\n",
    "for element in range(0,NumberStudents):\n",
    "    percentage.append((SommeNotes[element]/(NumberSubjects*100))*100)"
   ]
  },
  {
   "cell_type": "markdown",
   "id": "6d512dfb",
   "metadata": {},
   "source": [
    "Calculate the grade for each student using the percentage and the following grading system:\n",
    "    90% or above: A+\n",
    "    80% or above: A\n",
    "    70% or above: B+\n",
    "    60% or above: B\n",
    "    50% or above: C\n",
    "    below 50%: F"
   ]
  },
  {
   "cell_type": "code",
   "execution_count": 18,
   "id": "1dc8013a",
   "metadata": {},
   "outputs": [],
   "source": [
    "dicoNotations = {\n",
    "                '90%'  : 'A+',\n",
    "                '80%'  : 'A',\n",
    "                '70%'  : 'B+',\n",
    "                '60%'  : 'B',\n",
    "                '50%'  : 'C',\n",
    "                '0%'   : 'F',\n",
    "                }"
   ]
  },
  {
   "cell_type": "code",
   "execution_count": 19,
   "id": "a01a3c44",
   "metadata": {},
   "outputs": [],
   "source": [
    "GradesStudents = []\n",
    "for i in range(0,NumberStudents):\n",
    "    if percentage[i] >= 90:\n",
    "        GradesStudents.append('A+')\n",
    "    elif percentage[i] >= 80:\n",
    "        GradesStudents.append('A')\n",
    "    elif percentage[i] >= 70:\n",
    "        GradesStudents.append('B+')\n",
    "    elif percentage[i] >= 60:\n",
    "        GradesStudents.append('B')\n",
    "    elif percentage[i] >= 50:\n",
    "        GradesStudents.append('C')\n",
    "    else:\n",
    "        GradesStudents.append('F')"
   ]
  },
  {
   "cell_type": "code",
   "execution_count": 27,
   "id": "16a57874",
   "metadata": {},
   "outputs": [
    {
     "name": "stdout",
     "output_type": "stream",
     "text": [
      "Etudiant\n",
      "Etudiant\n",
      "Etudiant\n"
     ]
    }
   ],
   "source": [
    "#Avec numpy je peux pas avoir des types de données différentes\n",
    "#je déclare donc mon array en floating puis mon array en string\n",
    "\n",
    "TableauFinalfloat = np.zeros(shape=(NumberStudents,3))\n",
    "for i in range(0,NumberStudents):\n",
    "    TableauFinalfloat[i,0] = print ('Etudiant')\n",
    "    TableauFinalfloat[i,1] = SommeNotes[i]\n",
    "    TableauFinalfloat[i,2] = percentage[i]\n",
    "\n",
    "TableauFinalstring = np.full(shape=(NumberStudents,1),fill_value='aaa')\n",
    "for i in range(0,NumberStudents):\n",
    "    TableauFinalstring[i,0] = GradesStudents[i]"
   ]
  },
  {
   "cell_type": "code",
   "execution_count": 21,
   "id": "b683ba36",
   "metadata": {},
   "outputs": [],
   "source": [
    "df1 = pd.DataFrame(TableauFinalfloat, columns =['Nom', 'NoteGlobale', 'Percentage'])\n",
    "df2 = pd.DataFrame(TableauFinalstring, columns =['FinalGrade'])"
   ]
  },
  {
   "cell_type": "code",
   "execution_count": 26,
   "id": "957c5498",
   "metadata": {},
   "outputs": [
    {
     "data": {
      "text/html": [
       "<div>\n",
       "<style scoped>\n",
       "    .dataframe tbody tr th:only-of-type {\n",
       "        vertical-align: middle;\n",
       "    }\n",
       "\n",
       "    .dataframe tbody tr th {\n",
       "        vertical-align: top;\n",
       "    }\n",
       "\n",
       "    .dataframe thead th {\n",
       "        text-align: right;\n",
       "    }\n",
       "</style>\n",
       "<table border=\"1\" class=\"dataframe\">\n",
       "  <thead>\n",
       "    <tr style=\"text-align: right;\">\n",
       "      <th></th>\n",
       "      <th>Nom</th>\n",
       "      <th>NoteGlobale</th>\n",
       "      <th>Percentage</th>\n",
       "      <th>FinalGrade</th>\n",
       "    </tr>\n",
       "  </thead>\n",
       "  <tbody>\n",
       "    <tr>\n",
       "      <th>0</th>\n",
       "      <td>1.0</td>\n",
       "      <td>300.0</td>\n",
       "      <td>75.0</td>\n",
       "      <td>B+</td>\n",
       "    </tr>\n",
       "    <tr>\n",
       "      <th>1</th>\n",
       "      <td>2.0</td>\n",
       "      <td>290.0</td>\n",
       "      <td>72.5</td>\n",
       "      <td>B+</td>\n",
       "    </tr>\n",
       "    <tr>\n",
       "      <th>2</th>\n",
       "      <td>3.0</td>\n",
       "      <td>244.0</td>\n",
       "      <td>61.0</td>\n",
       "      <td>B</td>\n",
       "    </tr>\n",
       "  </tbody>\n",
       "</table>\n",
       "</div>"
      ],
      "text/plain": [
       "   Nom  NoteGlobale  Percentage FinalGrade\n",
       "0  1.0        300.0        75.0         B+\n",
       "1  2.0        290.0        72.5         B+\n",
       "2  3.0        244.0        61.0          B"
      ]
     },
     "execution_count": 26,
     "metadata": {},
     "output_type": "execute_result"
    }
   ],
   "source": [
    "pd.concat([df1, df2], axis=1)"
   ]
  },
  {
   "cell_type": "code",
   "execution_count": null,
   "id": "a66f65b4",
   "metadata": {},
   "outputs": [],
   "source": []
  }
 ],
 "metadata": {
  "kernelspec": {
   "display_name": "Python 3 (ipykernel)",
   "language": "python",
   "name": "python3"
  },
  "language_info": {
   "codemirror_mode": {
    "name": "ipython",
    "version": 3
   },
   "file_extension": ".py",
   "mimetype": "text/x-python",
   "name": "python",
   "nbconvert_exporter": "python",
   "pygments_lexer": "ipython3",
   "version": "3.10.9"
  }
 },
 "nbformat": 4,
 "nbformat_minor": 5
}
