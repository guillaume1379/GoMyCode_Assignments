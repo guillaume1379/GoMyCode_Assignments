{
 "cells": [
  {
   "cell_type": "code",
   "execution_count": null,
   "id": "312e3cc0",
   "metadata": {},
   "outputs": [],
   "source": [
    "def somme(a,b):\n",
    "    x = float(a)\n",
    "    y = float(b)\n",
    "    return x + y\n",
    "\n",
    "def soustraction(a,b):\n",
    "    x = float(a)\n",
    "    y = float(b)\n",
    "    return x - y\n",
    "\n",
    "def multiplication(a,b):\n",
    "    x = float(a)\n",
    "    y = float(b)\n",
    "    return x * y\n",
    "\n",
    "def division(a,b):\n",
    "    x = float(a)\n",
    "    y = float(b)\n",
    "    if y == 0:\n",
    "        print('le dénominateur ne peut pas être nul')\n",
    "    else:\n",
    "        return x / y"
   ]
  },
  {
   "cell_type": "code",
   "execution_count": null,
   "id": "f2fc614b",
   "metadata": {},
   "outputs": [],
   "source": [
    "premierchiffre = input('Enter the first number: ')\n",
    "deuxiemechiffre = input('Enter the second number: ')\n",
    "operation = input('Enter the operator (+,-,$,/):')\n",
    "\n",
    "dicooperation = {\n",
    "    '+' : somme(premierchiffre,deuxiemechiffre), \n",
    "    '-' : soustraction(premierchiffre,deuxiemechiffre),\n",
    "    '*' : multiplication(premierchiffre,deuxiemechiffre),\n",
    "    '/' : division(premierchiffre,deuxiemechiffre)    \n",
    "}\n",
    "\n",
    "if (premierchiffre.isdigit() == False) or (deuxiemechiffre.isdigit() == False):\n",
    "    print('renseignez des nombres!')\n",
    "else:\n",
    "    print('the result is: {}'.format(dicooperation[operation]))"
   ]
  },
  {
   "cell_type": "code",
   "execution_count": null,
   "id": "5a05e9ba",
   "metadata": {},
   "outputs": [],
   "source": [
    "def calculator(a,b):\n",
    "    premierchiffre = a\n",
    "    deuxiemechiffre = b\n",
    "    operation = input('Enter the operator (+,-,$,/):')\n",
    "\n",
    "    dicooperation = {\n",
    "        '+' : somme(premierchiffre,deuxiemechiffre), \n",
    "        '-' : soustraction(premierchiffre,deuxiemechiffre),\n",
    "        '*' : multiplication(premierchiffre,deuxiemechiffre),\n",
    "        '/' : division(premierchiffre,deuxiemechiffre)    \n",
    "    }\n",
    "    print('the result is: {}'.format(dicooperation[operation]))"
   ]
  },
  {
   "cell_type": "code",
   "execution_count": null,
   "id": "51bfa6f3",
   "metadata": {},
   "outputs": [],
   "source": [
    "calculator(8.0,9)"
   ]
  },
  {
   "cell_type": "code",
   "execution_count": null,
   "id": "56c1f4f6",
   "metadata": {},
   "outputs": [],
   "source": []
  }
 ],
 "metadata": {
  "kernelspec": {
   "display_name": "Python 3 (ipykernel)",
   "language": "python",
   "name": "python3"
  },
  "language_info": {
   "codemirror_mode": {
    "name": "ipython",
    "version": 3
   },
   "file_extension": ".py",
   "mimetype": "text/x-python",
   "name": "python",
   "nbconvert_exporter": "python",
   "pygments_lexer": "ipython3",
   "version": "3.10.9"
  }
 },
 "nbformat": 4,
 "nbformat_minor": 5
}
