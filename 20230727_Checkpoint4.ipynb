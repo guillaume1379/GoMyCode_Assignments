{
 "cells": [
  {
   "cell_type": "markdown",
   "id": "3e35dea9",
   "metadata": {},
   "source": [
    "Write a Python class named Point3D defined by x, y, and z. Define a method that returns (x, y ,z). This tells Python to represent this object in the following format: (x, y, z). Then create a variable named my_point containing a new instance of Point3D with x=1, y=2, and z=3 and print it."
   ]
  },
  {
   "cell_type": "code",
   "execution_count": 45,
   "id": "b92e3e9c",
   "metadata": {},
   "outputs": [],
   "source": [
    "class Point3D:\n",
    "    \n",
    "    def __init__(self,x,y,z):\n",
    "        self.x = x\n",
    "        self.y = y\n",
    "        self.z = z\n",
    "    \n",
    "    def coordonnees(self):\n",
    "        return (self.x, self.y, self.z)"
   ]
  },
  {
   "cell_type": "code",
   "execution_count": 53,
   "id": "6dd2b461",
   "metadata": {},
   "outputs": [
    {
     "data": {
      "text/plain": [
       "(1, 2, 3)"
      ]
     },
     "execution_count": 53,
     "metadata": {},
     "output_type": "execute_result"
    }
   ],
   "source": [
    "point = Point3D(1,2,3)\n",
    "point.coordonnees()"
   ]
  },
  {
   "cell_type": "markdown",
   "id": "a7559930",
   "metadata": {},
   "source": [
    "Write a Python class named Rectangle constructed by a length and width. Define two methods, area and perimeter, which will compute the area and the perimeter of the rectangle. Then create a variable named my_rectangle containing a new instance of Rectangle with width=3 and length = 4 and compute both area and perimeter ( the area is expected to be 3*4=12 and perimeter 2*(3+4)=14)."
   ]
  },
  {
   "cell_type": "code",
   "execution_count": 91,
   "id": "31e6797f",
   "metadata": {},
   "outputs": [],
   "source": [
    "class Rectangle:\n",
    "    \n",
    "    def __init__(self,length,width):\n",
    "        self.length = length\n",
    "        self.width = width\n",
    "    \n",
    "    def area(self):\n",
    "        self.aire = self.length * self.width\n",
    "        return self.aire\n",
    "    \n",
    "    def perimeter(self):\n",
    "        self.perimetre = (self.length + self.width) * 2\n",
    "        return self.perimetre"
   ]
  },
  {
   "cell_type": "code",
   "execution_count": 92,
   "id": "46cefa03",
   "metadata": {},
   "outputs": [],
   "source": [
    "Rectangle1 = Rectangle(4,3)\n",
    "aireRectangle1 = Rectangle1.area()\n",
    "perimetreRectangle1 = Rectangle1.perimeter()"
   ]
  },
  {
   "cell_type": "code",
   "execution_count": 93,
   "id": "7c9a4dce",
   "metadata": {},
   "outputs": [
    {
     "name": "stdout",
     "output_type": "stream",
     "text": [
      "12\n",
      "14\n"
     ]
    }
   ],
   "source": [
    "print(aireRectangle1)\n",
    "print(perimetreRectangle1)"
   ]
  },
  {
   "cell_type": "markdown",
   "id": "4fad9c50",
   "metadata": {},
   "source": [
    "Write a Python  class named Circle constructed by its center O and radius r. Define two methods, area and perimeter, which will compute the area and the perimeter of the circle, and is Inside() method which allows you to test whether a point A(x, y) belongs to the circle C(O, r) or not."
   ]
  },
  {
   "cell_type": "code",
   "execution_count": 126,
   "id": "a1e54719",
   "metadata": {},
   "outputs": [],
   "source": [
    "class Circle:\n",
    "    \n",
    "    def __init__(self,radius):\n",
    "        self.center = 0\n",
    "        self.radius = radius\n",
    "    \n",
    "    def area(self):\n",
    "        self.aire = math.pi * self.radius**2\n",
    "        return self.aire\n",
    "    \n",
    "    def perimeter(self):\n",
    "        self.perimetre = math.pi * self.radius*2\n",
    "        return self.perimetre\n",
    "\n",
    "    def isInside(self):\n",
    "        x = float(input('Insérez votre coordonnée x'))\n",
    "        y = float(input('Insérez votre coordonnée y'))\n",
    "        Inside = (x <= self.radius) and (y <= self.radius)\n",
    "        if Inside == True:\n",
    "            print('A({},{}) belongs to the circle C({},{})'.format(x,y,self.center,self.radius))\n",
    "        else:\n",
    "            print('A({},{}) does not belong to the circle C({},{})'.format(x,y,self.center,self.radius))"
   ]
  },
  {
   "cell_type": "code",
   "execution_count": 127,
   "id": "34173fee",
   "metadata": {},
   "outputs": [],
   "source": [
    "Cercle1 = Circle(5)"
   ]
  },
  {
   "cell_type": "code",
   "execution_count": 128,
   "id": "e5f42a1c",
   "metadata": {},
   "outputs": [
    {
     "data": {
      "text/plain": [
       "78.53981633974483"
      ]
     },
     "execution_count": 128,
     "metadata": {},
     "output_type": "execute_result"
    }
   ],
   "source": [
    "Cercle1.area()"
   ]
  },
  {
   "cell_type": "code",
   "execution_count": 129,
   "id": "fb209302",
   "metadata": {},
   "outputs": [
    {
     "data": {
      "text/plain": [
       "31.41592653589793"
      ]
     },
     "execution_count": 129,
     "metadata": {},
     "output_type": "execute_result"
    }
   ],
   "source": [
    "Cercle1.perimeter()"
   ]
  },
  {
   "cell_type": "code",
   "execution_count": 131,
   "id": "cf8a5412",
   "metadata": {},
   "outputs": [
    {
     "name": "stdout",
     "output_type": "stream",
     "text": [
      "Insérez votre coordonnée x5.5\n",
      "Insérez votre coordonnée y5\n",
      "A(5.5,5.0) does not belong to the circle C(0,5)\n"
     ]
    }
   ],
   "source": [
    "Cercle1.isInside()"
   ]
  },
  {
   "cell_type": "markdown",
   "id": "5dde4233",
   "metadata": {},
   "source": [
    "Suppose we want to model a bank account with support for deposit and withdraw operations. Let’s create a Python class named Bank defined by its balance. Define two methods, deposit and withdraw, to compute the new amount of each operation."
   ]
  },
  {
   "cell_type": "code",
   "execution_count": 178,
   "id": "c677e6c6",
   "metadata": {},
   "outputs": [],
   "source": [
    "class BankAccount:\n",
    "    \n",
    "    def __init__(self,balance):\n",
    "        self.balance = balance\n",
    "    \n",
    "    def deposit(self,depot):\n",
    "        self.depot = depot\n",
    "        self.previousbalance = self.balance\n",
    "        self.balance = self.balance + self.depot\n",
    "        print (\"Deposit of {}. Your balance was {}. Your new balance is {}.\".format(self.depot,self.previousbalance,self.balance))\n",
    "        \n",
    "    def withdraw(self,retrait):\n",
    "        self.retrait = retrait\n",
    "        if (self.retrait > self.balance):\n",
    "            print('You do not have enough cash!')\n",
    "        else: \n",
    "            self.previousbalance = self.balance\n",
    "            self.balance = self.balance - self.retrait\n",
    "            print (\"Withdraw of {}. Your balance was {}. Your new balance is {}.\".format(self.retrait,self.previousbalance,self.balance))\n",
    "    "
   ]
  },
  {
   "cell_type": "code",
   "execution_count": 182,
   "id": "76d59911",
   "metadata": {},
   "outputs": [],
   "source": [
    "Guillaume = BankAccount(1000)"
   ]
  },
  {
   "cell_type": "code",
   "execution_count": 183,
   "id": "e0e8959b",
   "metadata": {},
   "outputs": [
    {
     "name": "stdout",
     "output_type": "stream",
     "text": [
      "Deposit of 400. Your balance was 100000. Your new balance is 100400.\n"
     ]
    }
   ],
   "source": [
    "Guillaume.deposit(400)"
   ]
  },
  {
   "cell_type": "code",
   "execution_count": 184,
   "id": "1fc27d02",
   "metadata": {},
   "outputs": [
    {
     "name": "stdout",
     "output_type": "stream",
     "text": [
      "Withdraw of 400. Your balance was 100400. Your new balance is 100000.\n"
     ]
    }
   ],
   "source": [
    "Guillaume.withdraw(400)"
   ]
  },
  {
   "cell_type": "code",
   "execution_count": null,
   "id": "80d9fa1a",
   "metadata": {},
   "outputs": [],
   "source": []
  }
 ],
 "metadata": {
  "kernelspec": {
   "display_name": "Python 3 (ipykernel)",
   "language": "python",
   "name": "python3"
  },
  "language_info": {
   "codemirror_mode": {
    "name": "ipython",
    "version": 3
   },
   "file_extension": ".py",
   "mimetype": "text/x-python",
   "name": "python",
   "nbconvert_exporter": "python",
   "pygments_lexer": "ipython3",
   "version": "3.10.9"
  }
 },
 "nbformat": 4,
 "nbformat_minor": 5
}
